{
 "cells": [
  {
   "cell_type": "markdown",
   "metadata": {},
   "source": [
    "# Solubility Challenge"
   ]
  },
  {
   "cell_type": "markdown",
   "metadata": {},
   "source": [
    "### originally by team: C Di Paola, J. Manson and K. Makobe\n",
    "### revised and adapted By: C. Di Paola"
   ]
  },
  {
   "cell_type": "markdown",
   "metadata": {},
   "source": [
    "## Import necessary initial libraries"
   ]
  },
  {
   "cell_type": "code",
   "execution_count": null,
   "metadata": {},
   "outputs": [],
   "source": [
    "import numpy as np\n",
    "import pandas as pd\n",
    "import matplotlib\n",
    "import matplotlib.pyplot as plt\n",
    "import seaborn as sns\n",
    "np.set_printoptions(threshold=np.inf)\n",
    "#%load_ext autotime"
   ]
  },
  {
   "cell_type": "markdown",
   "metadata": {},
   "source": [
    "## Read files for analyis and prediction\n",
    "\n",
    "We need solubility data and DRAGON 2D descriptors from the training set and DRAGON 2D descriptors for prediction data set"
   ]
  },
  {
   "cell_type": "code",
   "execution_count": null,
   "metadata": {},
   "outputs": [],
   "source": [
    "#solub=pd.read_excel('soldata.xls')\n",
    "solub_train_data=pd.read_excel('soldata_trainingset.xls')\n",
    "solub_train_descriptors=pd.read_excel('Solubility_training_descriptors_cleaned.xlsx')\n",
    "solub_pred_descriptors=pd.read_excel('Solubility_prediction_descriptors_cleaned.xlsx')\n",
    "solub_pred_data=pd.read_excel('soldata_prediction_withSvalues.xlsx')"
   ]
  },
  {
   "cell_type": "markdown",
   "metadata": {},
   "source": [
    "## Pre-processing data\n",
    "\n",
    "* training data shape anf formatting"
   ]
  },
  {
   "cell_type": "code",
   "execution_count": null,
   "metadata": {},
   "outputs": [],
   "source": [
    "solub_train_data.head()"
   ]
  },
  {
   "cell_type": "code",
   "execution_count": null,
   "metadata": {},
   "outputs": [],
   "source": [
    "solub_train_descriptors.head()"
   ]
  },
  {
   "cell_type": "code",
   "execution_count": null,
   "metadata": {},
   "outputs": [],
   "source": [
    "solub_pred_data.head()"
   ]
  },
  {
   "cell_type": "code",
   "execution_count": null,
   "metadata": {},
   "outputs": [],
   "source": [
    "solub_pred_data['Solubility (from findings) (micro M)']=pd.to_numeric(solub_pred_data['Solubility (from findings) (micro M)'], errors='coerce')"
   ]
  },
  {
   "cell_type": "code",
   "execution_count": null,
   "metadata": {},
   "outputs": [],
   "source": [
    "solub_pred_data['Solubility (from findings) (micro M)']\n"
   ]
  },
  {
   "cell_type": "code",
   "execution_count": null,
   "metadata": {},
   "outputs": [],
   "source": [
    "#for i,aa in enumerate(solub_train_descriptors['NAME']):\n",
    "#    print(i+1)\n",
    "#for j,columns in enumerate(solub_train_descriptors.columns):\n",
    "    #print(j,columns)\n",
    "    #unique, counts = np.unique(solub_train_descriptors[columns], return_counts=True)\n",
    "    #print(unique,counts)"
   ]
  },
  {
   "cell_type": "markdown",
   "metadata": {},
   "source": [
    "* **Searching for missing solubility (S0) data in the form of null/NaN values**"
   ]
  },
  {
   "cell_type": "code",
   "execution_count": null,
   "metadata": {},
   "outputs": [],
   "source": [
    "print(solub_train_data['S0 (mM)'].isna().value_counts()) ## specific fro NaN search\n",
    "print(solub_train_data['S0 (mM)'].isnull().value_counts()) ## null data general\n",
    "print(solub_pred_data['Solubility (from findings) (micro M)'].isnull().value_counts())\n",
    "print(solub_pred_data['Solubility (from findings) (micro M)'].isna().value_counts())"
   ]
  },
  {
   "cell_type": "markdown",
   "metadata": {},
   "source": [
    "* **check the data are in the rigth format**"
   ]
  },
  {
   "cell_type": "code",
   "execution_count": null,
   "metadata": {},
   "outputs": [],
   "source": [
    "print(solub_train_data.shape)\n",
    "print(solub_train_data[['Substance','S0 (mM)']].dtypes)"
   ]
  },
  {
   "cell_type": "code",
   "execution_count": null,
   "metadata": {},
   "outputs": [],
   "source": [
    "print(solub_train_descriptors.shape)\n",
    "print(solub_train_descriptors.dtypes) # truncated list of data types\n",
    "#print(solub_train_descriptors.info(verbose=True)) # full list of data types"
   ]
  },
  {
   "cell_type": "code",
   "execution_count": null,
   "metadata": {},
   "outputs": [],
   "source": [
    "print(solub_pred_descriptors.shape)\n",
    "print(solub_pred_descriptors.dtypes) # truncated list of data types\n",
    "#print(solub_pred_descriptors.info(verbose=True)) # full list of data types"
   ]
  },
  {
   "cell_type": "code",
   "execution_count": null,
   "metadata": {},
   "outputs": [],
   "source": [
    "print(solub_pred_data.shape)\n",
    "print(solub_pred_data.dtypes)"
   ]
  },
  {
   "cell_type": "markdown",
   "metadata": {},
   "source": [
    "* Need to scale descriptors data to the same range of value [0,1]: MIN-MAX SCALER does this for us (from scikit-learn lib)"
   ]
  },
  {
   "cell_type": "code",
   "execution_count": null,
   "metadata": {},
   "outputs": [],
   "source": [
    "from sklearn import preprocessing\n",
    "%matplotlib inline\n",
    "min_max_scaler = preprocessing.MinMaxScaler()"
   ]
  },
  {
   "cell_type": "code",
   "execution_count": null,
   "metadata": {},
   "outputs": [],
   "source": [
    "columns_train_descrit=solub_train_descriptors.columns\n",
    "columns_pred_descrit=solub_pred_descriptors.columns"
   ]
  },
  {
   "cell_type": "code",
   "execution_count": null,
   "metadata": {},
   "outputs": [],
   "source": [
    "x_train_all_minmax = min_max_scaler.fit_transform(solub_train_descriptors[columns_train_descrit[2:]])\n",
    "solub_train_descriptors_values=pd.DataFrame(x_train_all_minmax, columns=columns_train_descrit[2:])"
   ]
  },
  {
   "cell_type": "code",
   "execution_count": null,
   "metadata": {},
   "outputs": [],
   "source": [
    "solub_train_descriptors_values.describe()"
   ]
  },
  {
   "cell_type": "code",
   "execution_count": null,
   "metadata": {},
   "outputs": [],
   "source": [
    "x_pred_all_minmax = min_max_scaler.fit_transform(solub_pred_descriptors[columns_pred_descrit[2:]])\n",
    "solub_pred_descriptors_values=pd.DataFrame(x_pred_all_minmax, columns=columns_pred_descrit[2:])"
   ]
  },
  {
   "cell_type": "code",
   "execution_count": null,
   "metadata": {},
   "outputs": [],
   "source": [
    "solub_pred_descriptors_values.describe()"
   ]
  },
  {
   "cell_type": "code",
   "execution_count": null,
   "metadata": {},
   "outputs": [],
   "source": [
    "corr_train=solub_train_descriptors_values.corr()\n",
    "corr_pred=solub_pred_descriptors_values.corr()"
   ]
  },
  {
   "cell_type": "code",
   "execution_count": null,
   "metadata": {},
   "outputs": [],
   "source": [
    "#(solub_train_descriptors_values == 0.).sum() > 366.5"
   ]
  },
  {
   "cell_type": "code",
   "execution_count": null,
   "metadata": {},
   "outputs": [],
   "source": [
    "#drop_cols=solub_train_descriptors_values[(solub_train_descriptors_values == 0.).sum() > 366.5]"
   ]
  },
  {
   "cell_type": "code",
   "execution_count": null,
   "metadata": {
    "scrolled": false
   },
   "outputs": [],
   "source": [
    "corr_train"
   ]
  },
  {
   "cell_type": "markdown",
   "metadata": {},
   "source": [
    "* **Correlation heatmap: load seaborn lib**"
   ]
  },
  {
   "cell_type": "raw",
   "metadata": {},
   "source": [
    "# execute this cell as a code if you want a correlation heatmap\n",
    "import seaborn as sns\n",
    "import matplotlib.pyplot as plt\n",
    "plt.figure(figsize=(20,5))\n",
    "plt.subplot(1,2,1)\n",
    "sns.heatmap(corr_train,cmap='binary')\n",
    "plt.title('Correlation of the training descriptors')\n",
    "plt.subplot(1,2,2)\n",
    "sns.heatmap(corr_pred,cmap='binary')\n",
    "plt.title('Correlation of the prediction descriptors')\n",
    "plt.show()"
   ]
  },
  {
   "cell_type": "markdown",
   "metadata": {},
   "source": [
    "* **Uniforming training and pediction data to the same descriptors**"
   ]
  },
  {
   "cell_type": "code",
   "execution_count": null,
   "metadata": {},
   "outputs": [],
   "source": [
    "bool_same_descriptors=solub_pred_descriptors_values.columns.isin(solub_train_descriptors.columns)\n",
    "#unique, counts = np.unique(a, return_counts=True)\n",
    "#print(unique,counts)\n",
    "#print(bool_same_descriptors) # check the boolean list"
   ]
  },
  {
   "cell_type": "code",
   "execution_count": null,
   "metadata": {},
   "outputs": [],
   "source": [
    "solub_pred_descriptors_new=solub_pred_descriptors_values.loc[:,bool_same_descriptors]"
   ]
  },
  {
   "cell_type": "code",
   "execution_count": null,
   "metadata": {},
   "outputs": [],
   "source": [
    "solub_pred_descriptors_new.shape"
   ]
  },
  {
   "cell_type": "code",
   "execution_count": null,
   "metadata": {},
   "outputs": [],
   "source": [
    "bool_same_descriptors1=solub_train_descriptors_values.columns.isin(solub_pred_descriptors.columns)\n",
    "#unique, counts = np.unique(b, return_counts=True)\n",
    "#print(unique,counts)\n",
    "#print(bool_same_descriptors1) # check the boolean list"
   ]
  },
  {
   "cell_type": "code",
   "execution_count": null,
   "metadata": {},
   "outputs": [],
   "source": [
    "solub_train_descriptors_new=solub_train_descriptors_values.loc[:,bool_same_descriptors1]"
   ]
  },
  {
   "cell_type": "code",
   "execution_count": null,
   "metadata": {},
   "outputs": [],
   "source": [
    "solub_train_descriptors_new.shape"
   ]
  },
  {
   "cell_type": "code",
   "execution_count": null,
   "metadata": {},
   "outputs": [],
   "source": [
    "corr_train1=solub_train_descriptors_new.corr()\n",
    "corr_pred1=solub_pred_descriptors_new.corr()"
   ]
  },
  {
   "cell_type": "raw",
   "metadata": {},
   "source": [
    "# execute this cell as code if you want the correlation heatmap\n",
    "plt.figure(figsize=(20,5))\n",
    "plt.subplot(1,2,1)\n",
    "sns.heatmap(corr_train1,cmap='RdBu')\n",
    "plt.title('Correlation of the training descriptors')\n",
    "plt.subplot(1,2,2)\n",
    "sns.heatmap(corr_pred1,cmap='RdBu')\n",
    "plt.title('Correlation of the prediction descriptors')\n",
    "plt.show()"
   ]
  },
  {
   "cell_type": "markdown",
   "metadata": {},
   "source": [
    "* **clean data from different isomer forms (only DRAGON 2D descriptors available)**"
   ]
  },
  {
   "cell_type": "markdown",
   "metadata": {},
   "source": [
    "** clean the training set**"
   ]
  },
  {
   "cell_type": "code",
   "execution_count": null,
   "metadata": {},
   "outputs": [],
   "source": [
    "solub_train_data[solub_train_data['Substance'].str.contains('form')]"
   ]
  },
  {
   "cell_type": "code",
   "execution_count": null,
   "metadata": {},
   "outputs": [],
   "source": [
    "solub_train_data1=solub_train_data[~solub_train_data['Substance'].str.contains('form_II')]"
   ]
  },
  {
   "cell_type": "code",
   "execution_count": null,
   "metadata": {},
   "outputs": [],
   "source": [
    "solub_train_data1[solub_train_data1['Substance'].str.contains('form')]"
   ]
  },
  {
   "cell_type": "code",
   "execution_count": null,
   "metadata": {},
   "outputs": [],
   "source": [
    "solub_train_data1['Substance'].replace(regex=True,inplace=True,to_replace=r'_form_I',value=r'')"
   ]
  },
  {
   "cell_type": "code",
   "execution_count": null,
   "metadata": {},
   "outputs": [],
   "source": [
    "solub_train_data1[solub_train_data1['Substance'].str.contains('phthalic')]"
   ]
  },
  {
   "cell_type": "code",
   "execution_count": null,
   "metadata": {},
   "outputs": [],
   "source": [
    "solub_train_data1.reset_index(drop=True,inplace=True)"
   ]
  },
  {
   "cell_type": "code",
   "execution_count": null,
   "metadata": {},
   "outputs": [],
   "source": [
    "solub_train_data1.shape"
   ]
  },
  {
   "cell_type": "markdown",
   "metadata": {},
   "source": [
    "** clean the reference set**"
   ]
  },
  {
   "cell_type": "code",
   "execution_count": null,
   "metadata": {},
   "outputs": [],
   "source": [
    "solub_pred_data[solub_pred_data['name'].str.contains('_I')]"
   ]
  },
  {
   "cell_type": "code",
   "execution_count": null,
   "metadata": {},
   "outputs": [],
   "source": [
    "solub_pred_data1=solub_pred_data[~solub_pred_data['name'].str.contains('_II')]\n",
    "solub_pred_data1=solub_pred_data1[~solub_pred_data['name'].str.contains('_III')]\n",
    "solub_pred_data1=solub_pred_data1[~solub_pred_data['name'].str.contains('_IV')]"
   ]
  },
  {
   "cell_type": "code",
   "execution_count": null,
   "metadata": {},
   "outputs": [],
   "source": [
    "solub_pred_data1"
   ]
  },
  {
   "cell_type": "code",
   "execution_count": null,
   "metadata": {},
   "outputs": [],
   "source": [
    "solub_pred_data1.replace(regex=True,inplace=True,to_replace=r'_I',value=r'')"
   ]
  },
  {
   "cell_type": "code",
   "execution_count": null,
   "metadata": {},
   "outputs": [],
   "source": [
    "solub_pred_data1"
   ]
  },
  {
   "cell_type": "code",
   "execution_count": null,
   "metadata": {},
   "outputs": [],
   "source": [
    "solub_pred_data1.reset_index(drop=True,inplace=True)\n",
    "solub_pred_data1.shape"
   ]
  },
  {
   "cell_type": "code",
   "execution_count": null,
   "metadata": {},
   "outputs": [],
   "source": [
    "solub_pred_data1"
   ]
  },
  {
   "cell_type": "markdown",
   "metadata": {},
   "source": [
    "* **clean data from null/NaN values of solubility S0**"
   ]
  },
  {
   "cell_type": "code",
   "execution_count": null,
   "metadata": {},
   "outputs": [],
   "source": [
    "S0_train_descrip=pd.merge(solub_train_data1[['Substance','S0 (mM)']], solub_train_descriptors_new,left_index=True,right_index=True)"
   ]
  },
  {
   "cell_type": "code",
   "execution_count": null,
   "metadata": {},
   "outputs": [],
   "source": [
    "S0_train_descrip.head()"
   ]
  },
  {
   "cell_type": "code",
   "execution_count": null,
   "metadata": {},
   "outputs": [],
   "source": [
    "S0_train_descrip.dropna(subset=['S0 (mM)'], axis=0, inplace=True)\n",
    "S0_train_descrip.reset_index(drop=True,inplace=True)"
   ]
  },
  {
   "cell_type": "code",
   "execution_count": null,
   "metadata": {},
   "outputs": [],
   "source": [
    "S0_pred_descrip=pd.merge(solub_pred_data1[['name','Solubility (from findings) (micro M)']], solub_pred_descriptors_new,left_index=True,right_index=True)"
   ]
  },
  {
   "cell_type": "code",
   "execution_count": null,
   "metadata": {},
   "outputs": [],
   "source": [
    "S0_pred_descrip"
   ]
  },
  {
   "cell_type": "code",
   "execution_count": null,
   "metadata": {},
   "outputs": [],
   "source": [
    "S0_pred_descrip.dropna(subset=['Solubility (from findings) (micro M)'],axis=0, inplace=True)\n",
    "S0_pred_descrip.reset_index(drop=True,inplace=True)"
   ]
  },
  {
   "cell_type": "raw",
   "metadata": {},
   "source": [
    "# execute cell as code for corrrelation heatmap\n",
    "plt.figure(figsize=(20,5))\n",
    "sns.heatmap(corr_S0_descrip,cmap='binary')\n",
    "plt.title('Correlation of S0 wrt the training descriptors')\n",
    "plt.show()"
   ]
  },
  {
   "cell_type": "raw",
   "metadata": {},
   "source": [
    "na_free = solub2['S0 (mM)'].dropna()\n",
    "remove1=solub2['S0 (mM)'].index.isin(na_free.index)\n",
    "print(remove1)"
   ]
  },
  {
   "cell_type": "markdown",
   "metadata": {},
   "source": [
    "* create final trainng and prediction sets"
   ]
  },
  {
   "cell_type": "code",
   "execution_count": null,
   "metadata": {},
   "outputs": [],
   "source": [
    "columns_S0_descrip=S0_train_descrip.columns\n",
    "print(columns_S0_descrip)"
   ]
  },
  {
   "cell_type": "code",
   "execution_count": null,
   "metadata": {},
   "outputs": [],
   "source": [
    "S0_train_descrip[columns_S0_descrip[1:]].head()"
   ]
  },
  {
   "cell_type": "code",
   "execution_count": null,
   "metadata": {},
   "outputs": [],
   "source": [
    "columns_S0_predict=S0_pred_descrip.columns\n",
    "print(columns_S0_predict)"
   ]
  },
  {
   "cell_type": "code",
   "execution_count": null,
   "metadata": {},
   "outputs": [],
   "source": [
    "S0_pred_descrip[columns_S0_predict[1:]].head()"
   ]
  },
  {
   "cell_type": "code",
   "execution_count": null,
   "metadata": {},
   "outputs": [],
   "source": [
    "columns_descriptors=S0_train_descrip[columns_S0_descrip[2:]].columns\n",
    "columns_descriptors1=S0_pred_descrip[columns_S0_predict[2:]].columns\n",
    "#print(columns_descriptors==columns_descriptors1)\n",
    "X_train=S0_train_descrip[columns_descriptors]\n",
    "X_pred=S0_pred_descrip[columns_descriptors1]\n",
    "y_train=S0_train_descrip['S0 (mM)']\n",
    "y_ref=S0_pred_descrip['Solubility (from findings) (micro M)']"
   ]
  },
  {
   "cell_type": "code",
   "execution_count": null,
   "metadata": {},
   "outputs": [],
   "source": [
    "X_train.shape"
   ]
  },
  {
   "cell_type": "code",
   "execution_count": null,
   "metadata": {},
   "outputs": [],
   "source": [
    "X_pred.shape"
   ]
  },
  {
   "cell_type": "code",
   "execution_count": null,
   "metadata": {},
   "outputs": [],
   "source": [
    "y_train.shape"
   ]
  },
  {
   "cell_type": "code",
   "execution_count": null,
   "metadata": {},
   "outputs": [],
   "source": [
    "y_ref.shape"
   ]
  },
  {
   "cell_type": "markdown",
   "metadata": {},
   "source": [
    "## Model prediction\n",
    "\n",
    "* PCA, ANOVA, Ridge or AdaBoost regressors"
   ]
  },
  {
   "cell_type": "code",
   "execution_count": null,
   "metadata": {},
   "outputs": [],
   "source": [
    "import sklearn\n",
    "from sklearn.model_selection import train_test_split\n",
    "from sklearn.linear_model import LinearRegression\n",
    "from sklearn.linear_model import Ridge\n",
    "from sklearn.pipeline import Pipeline\n",
    "from sklearn.feature_selection import SelectKBest\n",
    "from sklearn.decomposition import PCA\n",
    "from sklearn.model_selection import GridSearchCV, RandomizedSearchCV\n",
    "from sklearn.ensemble import AdaBoostRegressor\n",
    "from sklearn.feature_selection import f_regression, chi2\n",
    "from sklearn.feature_selection import mutual_info_regression\n",
    "from scipy.stats import randint as sp_randint\n",
    "from sklearn import preprocessing"
   ]
  }
 ],
 "metadata": {
  "kernelspec": {
   "display_name": "Python 3",
   "language": "python",
   "name": "python3"
  },
  "language_info": {
   "codemirror_mode": {
    "name": "ipython",
    "version": 3
   },
   "file_extension": ".py",
   "mimetype": "text/x-python",
   "name": "python",
   "nbconvert_exporter": "python",
   "pygments_lexer": "ipython3",
   "version": "3.7.3"
  }
 },
 "nbformat": 4,
 "nbformat_minor": 2
}
